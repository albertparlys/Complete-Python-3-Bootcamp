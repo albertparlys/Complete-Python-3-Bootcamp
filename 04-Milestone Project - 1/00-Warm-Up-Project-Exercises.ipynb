{
 "cells": [
  {
   "cell_type": "markdown",
   "source": [
    "___\n",
    "\n",
    "<a href='https://www.udemy.com/user/joseportilla/'><img src='../Pierian_Data_Logo.png'/></a>\n",
    "___\n",
    "<center><em>Content Copyright by Pierian Data</em></center>"
   ],
   "metadata": {}
  },
  {
   "cell_type": "markdown",
   "source": [
    "# Warm Up Project Exercises\n",
    "\n",
    "It is time to get you to put together all your skills to start building usable projects! Before you jump into our full milestone project, we will go through some warm-up component exercises, to get you comfortable with a few key ideas we use in the milestone project and larger projects in general, specifically:\n",
    "\n",
    "* Getting User Input\n",
    "* Creating Functions that edit variables based on user input\n",
    "* Generating output\n",
    "* Joining User Inputs and Logic Flow"
   ],
   "metadata": {}
  },
  {
   "cell_type": "markdown",
   "source": [
    "## Function to Display Information\n",
    "\n",
    "**Creating a function that displays a list for the user**"
   ],
   "metadata": {}
  },
  {
   "cell_type": "code",
   "execution_count": 2,
   "source": [
    "def display_list(mylist):\r\n",
    "    print(mylist)"
   ],
   "outputs": [],
   "metadata": {
    "collapsed": true
   }
  },
  {
   "cell_type": "code",
   "execution_count": 3,
   "source": [
    "mylist = [0,1,2,3,4,5,6,7,8,9,10]\r\n",
    "display_list(mylist)"
   ],
   "outputs": [
    {
     "output_type": "stream",
     "name": "stdout",
     "text": [
      "[0, 1, 2, 3, 4, 5, 6, 7, 8, 9, 10]\n"
     ]
    }
   ],
   "metadata": {}
  },
  {
   "cell_type": "markdown",
   "source": [
    "## Accepting User Input\n",
    "\n",
    "**Creating function that takes in an input from user and returns the result in the correct data type. Be careful when using the input() function, running that cell twice without providing an input value will cause python to get hung up waiting for the initial value on the first run. You will notice an In[*\\] next to the cell if it gets stuck, in which case, simply restart the kernel and re-run any necessary cells.**"
   ],
   "metadata": {}
  },
  {
   "cell_type": "code",
   "execution_count": 4,
   "source": [
    "input('Please enter a value: ')"
   ],
   "outputs": [
    {
     "output_type": "execute_result",
     "data": {
      "text/plain": [
       "'2'"
      ]
     },
     "metadata": {},
     "execution_count": 4
    }
   ],
   "metadata": {}
  },
  {
   "cell_type": "code",
   "execution_count": 5,
   "source": [
    "result = input(\"Please enter a number: \")"
   ],
   "outputs": [],
   "metadata": {}
  },
  {
   "cell_type": "code",
   "execution_count": 6,
   "source": [
    "result"
   ],
   "outputs": [
    {
     "output_type": "execute_result",
     "data": {
      "text/plain": [
       "'2'"
      ]
     },
     "metadata": {},
     "execution_count": 6
    }
   ],
   "metadata": {}
  },
  {
   "cell_type": "code",
   "execution_count": 7,
   "source": [
    "type(result)"
   ],
   "outputs": [
    {
     "output_type": "execute_result",
     "data": {
      "text/plain": [
       "str"
      ]
     },
     "metadata": {},
     "execution_count": 7
    }
   ],
   "metadata": {}
  },
  {
   "cell_type": "code",
   "execution_count": 8,
   "source": [
    "int(result)"
   ],
   "outputs": [
    {
     "output_type": "execute_result",
     "data": {
      "text/plain": [
       "2"
      ]
     },
     "metadata": {},
     "execution_count": 8
    }
   ],
   "metadata": {}
  },
  {
   "cell_type": "code",
   "execution_count": 9,
   "source": [
    "result = int(input(\"Please enter a number: \"))"
   ],
   "outputs": [],
   "metadata": {}
  },
  {
   "cell_type": "code",
   "execution_count": 10,
   "source": [
    "type(result)"
   ],
   "outputs": [
    {
     "output_type": "execute_result",
     "data": {
      "text/plain": [
       "int"
      ]
     },
     "metadata": {},
     "execution_count": 10
    }
   ],
   "metadata": {}
  },
  {
   "cell_type": "code",
   "execution_count": 11,
   "source": [
    "# Example of an error!\r\n",
    "result = int(input(\"Please enter a number: \"))"
   ],
   "outputs": [],
   "metadata": {}
  },
  {
   "cell_type": "markdown",
   "source": [
    "** Creating a function to hold this logic: **"
   ],
   "metadata": {}
  },
  {
   "cell_type": "code",
   "execution_count": 12,
   "source": [
    "def user_choice():\r\n",
    "    '''\r\n",
    "    User inputs a number (0-10) and we return this in integer form.\r\n",
    "    No parameter is passed when calling this function.\r\n",
    "    '''\r\n",
    "    choice = input(\"Please input a number (0-10)\")\r\n",
    "    \r\n",
    "    return int(choice)"
   ],
   "outputs": [],
   "metadata": {
    "collapsed": true
   }
  },
  {
   "cell_type": "code",
   "execution_count": 13,
   "source": [
    "user_choice()"
   ],
   "outputs": [
    {
     "output_type": "execute_result",
     "data": {
      "text/plain": [
       "2"
      ]
     },
     "metadata": {},
     "execution_count": 13
    }
   ],
   "metadata": {}
  },
  {
   "cell_type": "code",
   "execution_count": 14,
   "source": [
    "result = user_choice()"
   ],
   "outputs": [],
   "metadata": {}
  },
  {
   "cell_type": "code",
   "execution_count": 15,
   "source": [
    "result"
   ],
   "outputs": [
    {
     "output_type": "execute_result",
     "data": {
      "text/plain": [
       "2"
      ]
     },
     "metadata": {},
     "execution_count": 15
    }
   ],
   "metadata": {}
  },
  {
   "cell_type": "code",
   "execution_count": 16,
   "source": [
    "type(result)"
   ],
   "outputs": [
    {
     "output_type": "execute_result",
     "data": {
      "text/plain": [
       "int"
      ]
     },
     "metadata": {},
     "execution_count": 16
    }
   ],
   "metadata": {}
  },
  {
   "cell_type": "markdown",
   "source": [
    "## Validating User Input\n",
    "\n",
    "** Check that input is valid before attempting to convert.** \n",
    "\n",
    "We'll use a simple method here.\n",
    "\n",
    "As you get more advanced, you can start looking at other ways of doing this (these methods will make more sense later on in the course, so don't worry about them for now).\n",
    "\n",
    "* [Various Posts on This](https://www.google.com/search?q=python+check+if+input+is+number)\n",
    "* [StackOverflow Post 1](https://stackoverflow.com/questions/5424716/how-to-check-if-string-input-is-a-number)\n",
    "* [StackOverflow Post 2](https://stackoverflow.com/questions/1265665/how-can-i-check-if-a-string-represents-an-int-without-using-try-except)"
   ],
   "metadata": {}
  },
  {
   "cell_type": "code",
   "execution_count": 17,
   "source": [
    "some_input = '10'"
   ],
   "outputs": [],
   "metadata": {
    "collapsed": true
   }
  },
  {
   "cell_type": "code",
   "execution_count": 18,
   "source": [
    "# Lot's of .is methods availble on string\r\n",
    "some_input.isdigit()"
   ],
   "outputs": [
    {
     "output_type": "execute_result",
     "data": {
      "text/plain": [
       "True"
      ]
     },
     "metadata": {},
     "execution_count": 18
    }
   ],
   "metadata": {}
  },
  {
   "cell_type": "markdown",
   "source": [
    "** Edit the function to confirm against an acceptable value or type **"
   ],
   "metadata": {}
  },
  {
   "cell_type": "code",
   "execution_count": 19,
   "source": [
    "def user_choice():\r\n",
    "    \r\n",
    "    # This original choice value can be anything that isn't an integer\r\n",
    "    choice = 'wrong'\r\n",
    "    \r\n",
    "    # While the choice is not a digit, keep asking for input.\r\n",
    "    while choice.isdigit() == False:\r\n",
    "        \r\n",
    "        # we shouldn't convert here, otherwise we get an error on a wrong input\r\n",
    "        choice = input(\"Choose a number: \")\r\n",
    "    \r\n",
    "    # We can convert once the while loop above has confirmed we have a digit.\r\n",
    "    return int(choice)"
   ],
   "outputs": [],
   "metadata": {
    "collapsed": true
   }
  },
  {
   "cell_type": "code",
   "execution_count": 20,
   "source": [
    "user_choice()"
   ],
   "outputs": [
    {
     "output_type": "execute_result",
     "data": {
      "text/plain": [
       "2"
      ]
     },
     "metadata": {},
     "execution_count": 20
    }
   ],
   "metadata": {}
  },
  {
   "cell_type": "markdown",
   "source": [
    "**Let's try adding an error message within the while loop!**"
   ],
   "metadata": {}
  },
  {
   "cell_type": "code",
   "execution_count": 21,
   "source": [
    "def user_choice():\r\n",
    "    \r\n",
    "    # This original choice value can be anything that isn't an integer\r\n",
    "    choice = 'wrong'\r\n",
    "    \r\n",
    "    # While the choice is not a digit, keep asking for input.\r\n",
    "    while choice.isdigit() == False:\r\n",
    "        \r\n",
    "        # we shouldn't convert here, otherwise we get an error on a wrong input\r\n",
    "        choice = input(\"Choose a number: \")\r\n",
    "        \r\n",
    "        # Error Message Check\r\n",
    "        if choice.isdigit() == False:\r\n",
    "            print(\"Sorry, but you did not enter an integer. Please try again.\")\r\n",
    "    \r\n",
    "    # We can convert once the while loop above has confirmed we have a digit.\r\n",
    "    return int(choice)"
   ],
   "outputs": [],
   "metadata": {
    "collapsed": true
   }
  },
  {
   "cell_type": "code",
   "execution_count": 22,
   "source": [
    "user_choice()"
   ],
   "outputs": [
    {
     "output_type": "execute_result",
     "data": {
      "text/plain": [
       "2"
      ]
     },
     "metadata": {},
     "execution_count": 22
    }
   ],
   "metadata": {}
  },
  {
   "cell_type": "markdown",
   "source": [
    "**Now let's explore how to \"clear\" the output, that way we don't see the history of the \"Choose a number\" statements.**\n",
    "\n",
    "**NOTE: Jupyter Notebook users will use the IPython method shown here. Other IDE users (PyCharm, VS, etc..) will use **"
   ],
   "metadata": {}
  },
  {
   "cell_type": "code",
   "execution_count": 23,
   "source": [
    "from IPython.display import clear_output\r\n",
    "clear_output()"
   ],
   "outputs": [],
   "metadata": {
    "collapsed": true
   }
  },
  {
   "cell_type": "code",
   "execution_count": 24,
   "source": [
    "def user_choice():\r\n",
    "    \r\n",
    "    # This original choice value can be anything that isn't an integer\r\n",
    "    choice = 'wrong'\r\n",
    "    \r\n",
    "    # While the choice is not a digit, keep asking for input.\r\n",
    "    while choice.isdigit() == False:\r\n",
    "        \r\n",
    "        # we shouldn't convert here, otherwise we get an error on a wrong input\r\n",
    "        choice = input(\"Choose a number: \")\r\n",
    "        \r\n",
    "        if choice.isdigit() == False:\r\n",
    "            # THIS CLEARS THE CURRENT OUTPUT BELOW THE CELL\r\n",
    "            clear_output()\r\n",
    "            \r\n",
    "            print(\"Sorry, but you did not enter an integer. Please try again.\")\r\n",
    "            \r\n",
    "    \r\n",
    "    # Optionally you can clear everything after running the function\r\n",
    "    # clear_output()\r\n",
    "    \r\n",
    "    # We can convert once the while loop above has confirmed we have a digit.\r\n",
    "    return int(choice)"
   ],
   "outputs": [],
   "metadata": {
    "collapsed": true
   }
  },
  {
   "cell_type": "code",
   "execution_count": 25,
   "source": [
    "user_choice()"
   ],
   "outputs": [
    {
     "output_type": "execute_result",
     "data": {
      "text/plain": [
       "2"
      ]
     },
     "metadata": {},
     "execution_count": 25
    }
   ],
   "metadata": {}
  },
  {
   "cell_type": "markdown",
   "source": [
    "**Checking Against Multiple Possible Values**"
   ],
   "metadata": {}
  },
  {
   "cell_type": "code",
   "execution_count": 26,
   "source": [
    "result = 'wrong value'\r\n",
    "acceptable_values = ['0','1','2']"
   ],
   "outputs": [],
   "metadata": {
    "collapsed": true
   }
  },
  {
   "cell_type": "code",
   "execution_count": 27,
   "source": [
    "result in acceptable_values"
   ],
   "outputs": [
    {
     "output_type": "execute_result",
     "data": {
      "text/plain": [
       "False"
      ]
     },
     "metadata": {},
     "execution_count": 27
    }
   ],
   "metadata": {}
  },
  {
   "cell_type": "code",
   "execution_count": 28,
   "source": [
    "result not in acceptable_values"
   ],
   "outputs": [
    {
     "output_type": "execute_result",
     "data": {
      "text/plain": [
       "True"
      ]
     },
     "metadata": {},
     "execution_count": 28
    }
   ],
   "metadata": {}
  },
  {
   "cell_type": "code",
   "execution_count": 29,
   "source": [
    "from IPython.display import clear_output\r\n",
    "clear_output()"
   ],
   "outputs": [],
   "metadata": {
    "collapsed": true
   }
  },
  {
   "cell_type": "code",
   "execution_count": 30,
   "source": [
    "def user_choice():\r\n",
    "    \r\n",
    "    # This original choice value can be anything that isn't an integer\r\n",
    "    choice = 'wrong'\r\n",
    "    \r\n",
    "    # While the choice is not a digit, keep asking for input.\r\n",
    "    while choice not in ['0','1','2']:\r\n",
    "        \r\n",
    "        # we shouldn't convert here, otherwise we get an error on a wrong input\r\n",
    "        choice = input(\"Choose one of these numbers (0,1,2): \")\r\n",
    "        \r\n",
    "        if choice not in ['0','1','2']:\r\n",
    "            # THIS CLEARS THE CURRENT OUTPUT BELOW THE CELL\r\n",
    "            clear_output()\r\n",
    "            \r\n",
    "            print(\"Sorry, but you did not choose a value in the correct range (0,1,2)\")\r\n",
    "            \r\n",
    "    \r\n",
    "    # Optionally you can clear everything after running the function\r\n",
    "    # clear_output()\r\n",
    "    \r\n",
    "    # We can convert once the while loop above has confirmed we have a digit.\r\n",
    "    return int(choice)"
   ],
   "outputs": [],
   "metadata": {
    "collapsed": true
   }
  },
  {
   "cell_type": "code",
   "execution_count": 31,
   "source": [
    "user_choice()"
   ],
   "outputs": [
    {
     "output_type": "execute_result",
     "data": {
      "text/plain": [
       "2"
      ]
     },
     "metadata": {},
     "execution_count": 31
    }
   ],
   "metadata": {
    "scrolled": true
   }
  },
  {
   "cell_type": "markdown",
   "source": [
    "### More Flexible Example"
   ],
   "metadata": {}
  },
  {
   "cell_type": "code",
   "execution_count": 32,
   "source": [
    "def user_choice():\r\n",
    "    \r\n",
    "    choice ='WRONG'\r\n",
    "    within_range = False\r\n",
    "    \r\n",
    "    while choice.isdigit() == False or within_range == False:\r\n",
    "        \r\n",
    "    \r\n",
    "    \r\n",
    "        choice = input(\"Please enter a number (0-10): \")\r\n",
    "        \r\n",
    "        if choice.isdigit() == False:\r\n",
    "            print(\"Sorry that is not a digit!\")\r\n",
    "            \r\n",
    "        if choice.isdigit() == True:\r\n",
    "            if int(choice) in range(0,10):\r\n",
    "                within_range = True\r\n",
    "            else:\r\n",
    "                within_range = False\r\n",
    "        \r\n",
    "    \r\n",
    "    return int(choice)"
   ],
   "outputs": [],
   "metadata": {
    "collapsed": true
   }
  },
  {
   "cell_type": "code",
   "execution_count": 33,
   "source": [
    "user_choice()"
   ],
   "outputs": [
    {
     "output_type": "execute_result",
     "data": {
      "text/plain": [
       "2"
      ]
     },
     "metadata": {},
     "execution_count": 33
    }
   ],
   "metadata": {}
  },
  {
   "cell_type": "markdown",
   "source": [
    "-----\n",
    "## Simple User Interaction\n",
    "\n",
    "**Finally let's combine all of these ideas to create a small game where a user can choose a \"position\" in an existing list and replace it with a value of their choice.**"
   ],
   "metadata": {}
  },
  {
   "cell_type": "code",
   "execution_count": 34,
   "source": [
    "game_list = [0,1,2]"
   ],
   "outputs": [],
   "metadata": {
    "collapsed": true
   }
  },
  {
   "cell_type": "code",
   "execution_count": 35,
   "source": [
    "def display_game(game_list):\r\n",
    "    print(\"Here is the current list\")\r\n",
    "    print(game_list)"
   ],
   "outputs": [],
   "metadata": {
    "collapsed": true
   }
  },
  {
   "cell_type": "code",
   "execution_count": 36,
   "source": [
    "display_game(game_list)"
   ],
   "outputs": [
    {
     "output_type": "stream",
     "name": "stdout",
     "text": [
      "Here is the current list\n",
      "[0, 1, 2]\n"
     ]
    }
   ],
   "metadata": {}
  },
  {
   "cell_type": "code",
   "execution_count": 37,
   "source": [
    "def position_choice():\r\n",
    "    \r\n",
    "    # This original choice value can be anything that isn't an integer\r\n",
    "    choice = 'wrong'\r\n",
    "    \r\n",
    "    # While the choice is not a digit, keep asking for input.\r\n",
    "    while choice not in ['0','1','2']:\r\n",
    "        \r\n",
    "        # we shouldn't convert here, otherwise we get an error on a wrong input\r\n",
    "        choice = input(\"Pick a position to replace (0,1,2): \")\r\n",
    "        \r\n",
    "        if choice not in ['0','1','2']:\r\n",
    "            # THIS CLEARS THE CURRENT OUTPUT BELOW THE CELL\r\n",
    "            clear_output()\r\n",
    "            \r\n",
    "            print(\"Sorry, but you did not choose a valid position (0,1,2)\")\r\n",
    "            \r\n",
    "    \r\n",
    "    # Optionally you can clear everything after running the function\r\n",
    "    # clear_output()\r\n",
    "    \r\n",
    "    # We can convert once the while loop above has confirmed we have a digit.\r\n",
    "    return int(choice)"
   ],
   "outputs": [],
   "metadata": {
    "collapsed": true
   }
  },
  {
   "cell_type": "code",
   "execution_count": 38,
   "source": [
    "def replacement_choice(game_list,position):\r\n",
    "    \r\n",
    "    user_placement = input(\"Type a string to place at the position\")\r\n",
    "    \r\n",
    "    game_list[position] = user_placement\r\n",
    "    \r\n",
    "    return game_list"
   ],
   "outputs": [],
   "metadata": {
    "collapsed": true
   }
  },
  {
   "cell_type": "code",
   "execution_count": 39,
   "source": [
    "def gameon_choice():\r\n",
    "    \r\n",
    "    # This original choice value can be anything that isn't a Y or N\r\n",
    "    choice = 'wrong'\r\n",
    "    \r\n",
    "    # While the choice is not a digit, keep asking for input.\r\n",
    "    while choice not in ['Y','N']:\r\n",
    "        \r\n",
    "        # we shouldn't convert here, otherwise we get an error on a wrong input\r\n",
    "        choice = input(\"Would you like to keep playing? Y or N \")\r\n",
    "\r\n",
    "        \r\n",
    "        if choice not in ['Y','N']:\r\n",
    "            # THIS CLEARS THE CURRENT OUTPUT BELOW THE CELL\r\n",
    "            clear_output()\r\n",
    "            \r\n",
    "            print(\"Sorry, I didn't understand. Please make sure to choose Y or N.\")\r\n",
    "            \r\n",
    "    \r\n",
    "    # Optionally you can clear everything after running the function\r\n",
    "    # clear_output()\r\n",
    "    \r\n",
    "    if choice == \"Y\":\r\n",
    "        # Game is still on\r\n",
    "        return True\r\n",
    "    else:\r\n",
    "        # Game is over\r\n",
    "        return False"
   ],
   "outputs": [],
   "metadata": {
    "collapsed": true
   }
  },
  {
   "cell_type": "markdown",
   "source": [
    "**Game Logic All Together**"
   ],
   "metadata": {}
  },
  {
   "cell_type": "code",
   "execution_count": 40,
   "source": [
    "# Variable to keep game playing\r\n",
    "game_on = True\r\n",
    "\r\n",
    "# First Game List\r\n",
    "game_list = [0,1,2]\r\n",
    "\r\n",
    "\r\n",
    "\r\n",
    "while game_on:\r\n",
    "    \r\n",
    "    # Clear any historical output and show the game list\r\n",
    "    clear_output()\r\n",
    "    display_game(game_list)\r\n",
    "    \r\n",
    "    # Have player choose position\r\n",
    "    position = position_choice()\r\n",
    "    \r\n",
    "    # Rewrite that position and update game_list\r\n",
    "    game_list = replacement_choice(game_list,position)\r\n",
    "    \r\n",
    "    # Clear Screen and show the updated game list\r\n",
    "    clear_output()\r\n",
    "    display_game(game_list)\r\n",
    "    \r\n",
    "    # Ask if you want to keep playing\r\n",
    "    game_on = gameon_choice()\r\n",
    "    "
   ],
   "outputs": [
    {
     "output_type": "stream",
     "name": "stdout",
     "text": [
      "Sorry, I didn't understand. Please make sure to choose Y or N.\n"
     ]
    }
   ],
   "metadata": {}
  },
  {
   "cell_type": "markdown",
   "source": [
    "**Great work! You now have an understanding of bringing functions and loop logics together to build a simple game. This will be expanded upon in the Milestone project!**"
   ],
   "metadata": {}
  }
 ],
 "metadata": {
  "kernelspec": {
   "name": "python3",
   "display_name": "Python 3.9.0 64-bit"
  },
  "language_info": {
   "codemirror_mode": {
    "name": "ipython",
    "version": 3
   },
   "file_extension": ".py",
   "mimetype": "text/x-python",
   "name": "python",
   "nbconvert_exporter": "python",
   "pygments_lexer": "ipython3",
   "version": "3.9.0"
  },
  "interpreter": {
   "hash": "b5843a13e7131a14c3c0e364f0390d6592a995e3082c3f83420ac4385eeb2370"
  }
 },
 "nbformat": 4,
 "nbformat_minor": 2
}